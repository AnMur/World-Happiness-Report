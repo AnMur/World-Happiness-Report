{
 "cells": [
  {
   "cell_type": "markdown",
   "id": "d97af009",
   "metadata": {},
   "source": [
    "## XGBM"
   ]
  },
  {
   "cell_type": "markdown",
   "id": "f7e4c5f5",
   "metadata": {},
   "source": [
    "In this notebook, I wanted to try to use the XGBM model. It is probably too strong model for my small dataset, but it is OK to try."
   ]
  },
  {
   "cell_type": "markdown",
   "id": "5c6b914d",
   "metadata": {},
   "source": [
    "**Extreme Gradient Boosting. Weights**. \n",
    "\n",
    " - Weights are assigned to observations to indicate their \"importance:\" Samples with higher weights are given higher influence on the total error of the next model, prioritizing those observations.\n",
    " - Weights change at each iteration with the goal of correcting the errors/misclassifications of the previous iteration: The first base estimator is fit with uniform weights on the observations.\n",
    " - Final prediction is typically constructed by a weighted vote: Weights for each base model depend on their training errors or misclassification rates."
   ]
  },
  {
   "cell_type": "markdown",
   "id": "a2275e8f",
   "metadata": {},
   "source": [
    " - ***Since it is a Regression type of problem, to evaluate my model I'm going to use MSE and RMSE as well as to look at train and test scores for overfitting.***"
   ]
  },
  {
   "cell_type": "code",
   "execution_count": null,
   "id": "4c05ae7d",
   "metadata": {},
   "outputs": [],
   "source": [
    "# Windows installation\n",
    "# pip install xgboost"
   ]
  },
  {
   "cell_type": "code",
   "execution_count": 1,
   "id": "ac297046",
   "metadata": {},
   "outputs": [],
   "source": [
    "# Mac installation\n",
    "\n",
    "# 1. brew install libomp\n",
    "# 2. install.packages(\"xgboost\")"
   ]
  },
  {
   "cell_type": "code",
   "execution_count": 2,
   "id": "56f9d1da",
   "metadata": {},
   "outputs": [],
   "source": [
    "import numpy as np\n",
    "import pandas as pd\n",
    "import seaborn as sns\n",
    "import matplotlib.pyplot as plt\n",
    "\n",
    "from sklearn.model_selection import train_test_split, GridSearchCV\n",
    "from sklearn.preprocessing import StandardScaler\n",
    "from sklearn.metrics import mean_squared_error\n",
    "from sklearn.impute import SimpleImputer\n",
    "\n",
    "import xgboost as xgb"
   ]
  },
  {
   "cell_type": "code",
   "execution_count": 4,
   "id": "a49df5e5",
   "metadata": {},
   "outputs": [
    {
     "name": "stdout",
     "output_type": "stream",
     "text": [
      "1.4.2\n"
     ]
    }
   ],
   "source": [
    "# Check xgboost\n",
    "\n",
    "print(xgb.__version__)"
   ]
  },
  {
   "cell_type": "markdown",
   "id": "1698cd20",
   "metadata": {},
   "source": [
    "### 1. Import data"
   ]
  },
  {
   "cell_type": "code",
   "execution_count": 5,
   "id": "a3bf3cf7",
   "metadata": {},
   "outputs": [
    {
     "data": {
      "text/html": [
       "<div>\n",
       "<style scoped>\n",
       "    .dataframe tbody tr th:only-of-type {\n",
       "        vertical-align: middle;\n",
       "    }\n",
       "\n",
       "    .dataframe tbody tr th {\n",
       "        vertical-align: top;\n",
       "    }\n",
       "\n",
       "    .dataframe thead th {\n",
       "        text-align: right;\n",
       "    }\n",
       "</style>\n",
       "<table border=\"1\" class=\"dataframe\">\n",
       "  <thead>\n",
       "    <tr style=\"text-align: right;\">\n",
       "      <th></th>\n",
       "      <th>year</th>\n",
       "      <th>overall_score</th>\n",
       "      <th>property_rights</th>\n",
       "      <th>government_integrity</th>\n",
       "      <th>tax_burden</th>\n",
       "      <th>government_spending</th>\n",
       "      <th>business_freedom</th>\n",
       "      <th>labor_freedom</th>\n",
       "      <th>monetary_freedom</th>\n",
       "      <th>trade_freedom</th>\n",
       "      <th>...</th>\n",
       "      <th>log_gdp_per_capita</th>\n",
       "      <th>social_support</th>\n",
       "      <th>healthy_life_expectancy_at_birth</th>\n",
       "      <th>choice_freedom</th>\n",
       "      <th>generosity</th>\n",
       "      <th>perceptions_of_corruption</th>\n",
       "      <th>positive_affect</th>\n",
       "      <th>negative_affect</th>\n",
       "      <th>country_name</th>\n",
       "      <th>life_ladder</th>\n",
       "    </tr>\n",
       "  </thead>\n",
       "  <tbody>\n",
       "    <tr>\n",
       "      <th>0</th>\n",
       "      <td>2020.0</td>\n",
       "      <td>66.9</td>\n",
       "      <td>57.1</td>\n",
       "      <td>38.8</td>\n",
       "      <td>85.9</td>\n",
       "      <td>74.6</td>\n",
       "      <td>65.7</td>\n",
       "      <td>52.1</td>\n",
       "      <td>81.2</td>\n",
       "      <td>88.4</td>\n",
       "      <td>...</td>\n",
       "      <td>9.497</td>\n",
       "      <td>0.710</td>\n",
       "      <td>69.3</td>\n",
       "      <td>0.754</td>\n",
       "      <td>0.007</td>\n",
       "      <td>0.891</td>\n",
       "      <td>0.679</td>\n",
       "      <td>0.265</td>\n",
       "      <td>Albania</td>\n",
       "      <td>5.365</td>\n",
       "    </tr>\n",
       "    <tr>\n",
       "      <th>1</th>\n",
       "      <td>2020.0</td>\n",
       "      <td>53.1</td>\n",
       "      <td>50.5</td>\n",
       "      <td>49.7</td>\n",
       "      <td>69.6</td>\n",
       "      <td>50.7</td>\n",
       "      <td>60.2</td>\n",
       "      <td>46.5</td>\n",
       "      <td>53.7</td>\n",
       "      <td>69.2</td>\n",
       "      <td>...</td>\n",
       "      <td>9.850</td>\n",
       "      <td>0.897</td>\n",
       "      <td>69.2</td>\n",
       "      <td>0.823</td>\n",
       "      <td>-0.122</td>\n",
       "      <td>0.816</td>\n",
       "      <td>0.764</td>\n",
       "      <td>0.342</td>\n",
       "      <td>Argentina</td>\n",
       "      <td>5.901</td>\n",
       "    </tr>\n",
       "  </tbody>\n",
       "</table>\n",
       "<p>2 rows × 22 columns</p>\n",
       "</div>"
      ],
      "text/plain": [
       "     year  overall_score  property_rights  government_integrity  tax_burden  \\\n",
       "0  2020.0           66.9             57.1                  38.8        85.9   \n",
       "1  2020.0           53.1             50.5                  49.7        69.6   \n",
       "\n",
       "   government_spending  business_freedom  labor_freedom  monetary_freedom  \\\n",
       "0                 74.6              65.7           52.1              81.2   \n",
       "1                 50.7              60.2           46.5              53.7   \n",
       "\n",
       "   trade_freedom  ...  log_gdp_per_capita  social_support  \\\n",
       "0           88.4  ...               9.497           0.710   \n",
       "1           69.2  ...               9.850           0.897   \n",
       "\n",
       "   healthy_life_expectancy_at_birth  choice_freedom  generosity  \\\n",
       "0                              69.3           0.754       0.007   \n",
       "1                              69.2           0.823      -0.122   \n",
       "\n",
       "   perceptions_of_corruption  positive_affect  negative_affect  country_name  \\\n",
       "0                      0.891            0.679            0.265       Albania   \n",
       "1                      0.816            0.764            0.342     Argentina   \n",
       "\n",
       "   life_ladder  \n",
       "0        5.365  \n",
       "1        5.901  \n",
       "\n",
       "[2 rows x 22 columns]"
      ]
     },
     "execution_count": 5,
     "metadata": {},
     "output_type": "execute_result"
    }
   ],
   "source": [
    "df = pd.read_csv('data/P5clean.csv')\n",
    "df.head(2)"
   ]
  },
  {
   "cell_type": "markdown",
   "id": "9244ef80",
   "metadata": {},
   "source": [
    "\n",
    "## 2. Modeling"
   ]
  },
  {
   "cell_type": "code",
   "execution_count": 6,
   "id": "724ddc83",
   "metadata": {},
   "outputs": [],
   "source": [
    "exclude = ['country_name', 'life_ladder']\n",
    "X_features = [i for i in df if i not in exclude]"
   ]
  },
  {
   "cell_type": "code",
   "execution_count": 7,
   "id": "c5156b61",
   "metadata": {},
   "outputs": [],
   "source": [
    "# Prepocessing\n",
    "\n",
    "X = df[X_features]\n",
    "y = df['life_ladder']\n",
    "\n",
    "X_train, X_test, y_train, y_test = train_test_split(X, y, random_state = 42)"
   ]
  },
  {
   "cell_type": "code",
   "execution_count": 8,
   "id": "77f0358f",
   "metadata": {},
   "outputs": [
    {
     "data": {
      "text/plain": [
       "XGBRegressor(base_score=0.25, booster='gbtree', colsample_bylevel=1,\n",
       "             colsample_bynode=1, colsample_bytree=1, gamma=0, gpu_id=-1,\n",
       "             importance_type='gain', interaction_constraints='',\n",
       "             learning_rate=0.05, max_delta_step=0, max_depth=3,\n",
       "             min_child_weight=1, missing=nan, monotone_constraints='()',\n",
       "             n_estimators=900, n_jobs=1, num_parallel_tree=1, random_state=0,\n",
       "             reg_alpha=0, reg_lambda=1, scale_pos_weight=1, subsample=1,\n",
       "             tree_method='exact', validate_parameters=1, verbosity=None)"
      ]
     },
     "execution_count": 8,
     "metadata": {},
     "output_type": "execute_result"
    }
   ],
   "source": [
    "# Instantiate and fir XGBM\n",
    "\n",
    "xgb = xgb.XGBRegressor(base_score = 0.25,\n",
    "                       learning_rate = 0.05, \n",
    "                       max_depth=3, \n",
    "                       min_child_weight = 1,\n",
    "                       n_estimators = 900,\n",
    "                       n_jobs = 1,\n",
    "                       objective='reg:squarederror', \n",
    "                       random_state = 0,\n",
    "                       reg_alpha = 0)\n",
    "                       \n",
    "\n",
    "#fit the model\n",
    "xgb.fit(X_train, y_train)"
   ]
  },
  {
   "cell_type": "code",
   "execution_count": 9,
   "id": "e9c5f176",
   "metadata": {},
   "outputs": [
    {
     "data": {
      "text/plain": [
       "0.179471618962201"
      ]
     },
     "execution_count": 9,
     "metadata": {},
     "output_type": "execute_result"
    }
   ],
   "source": [
    "# Prediction and MSE score\n",
    "\n",
    "pred = xgb.predict(X_test)\n",
    "mse = mean_squared_error(y_test, pred)\n",
    "mse"
   ]
  },
  {
   "cell_type": "code",
   "execution_count": 10,
   "id": "41404b6e",
   "metadata": {},
   "outputs": [
    {
     "name": "stdout",
     "output_type": "stream",
     "text": [
      "train score: 0.9798099828836212\n",
      "test score: 0.8573147683420658\n",
      "RMSE: 0.42\n"
     ]
    }
   ],
   "source": [
    "print('train score:', xgb.score(X_train,y_train))\n",
    "print('test score:', xgb.score(X_test,y_test))\n",
    "print(\"RMSE: %.2f\" % (mse**(1/2.0)))"
   ]
  }
 ],
 "metadata": {
  "kernelspec": {
   "display_name": "Python 3",
   "language": "python",
   "name": "python3"
  },
  "language_info": {
   "codemirror_mode": {
    "name": "ipython",
    "version": 3
   },
   "file_extension": ".py",
   "mimetype": "text/x-python",
   "name": "python",
   "nbconvert_exporter": "python",
   "pygments_lexer": "ipython3",
   "version": "3.8.8"
  }
 },
 "nbformat": 4,
 "nbformat_minor": 5
}
